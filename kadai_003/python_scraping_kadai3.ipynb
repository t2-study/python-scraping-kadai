{
  "nbformat": 4,
  "nbformat_minor": 0,
  "metadata": {
    "colab": {
      "provenance": []
    },
    "kernelspec": {
      "name": "python3",
      "display_name": "Python 3"
    },
    "language_info": {
      "name": "python"
    }
  },
  "cells": [
    {
      "cell_type": "code",
      "execution_count": 15,
      "metadata": {
        "colab": {
          "base_uri": "https://localhost:8080/"
        },
        "id": "JkO7JTeJdmfj",
        "outputId": "b7994c7d-6385-4ec3-eaed-f3629a6e0dbc"
      },
      "outputs": [
        {
          "output_type": "stream",
          "name": "stdout",
          "text": [
            "Requirement already satisfied: selenium in /usr/local/lib/python3.10/dist-packages (4.21.0)\n",
            "Requirement already satisfied: urllib3[socks]<3,>=1.26 in /usr/local/lib/python3.10/dist-packages (from selenium) (2.0.7)\n",
            "Requirement already satisfied: trio~=0.17 in /usr/local/lib/python3.10/dist-packages (from selenium) (0.25.1)\n",
            "Requirement already satisfied: trio-websocket~=0.9 in /usr/local/lib/python3.10/dist-packages (from selenium) (0.11.1)\n",
            "Requirement already satisfied: certifi>=2021.10.8 in /usr/local/lib/python3.10/dist-packages (from selenium) (2024.6.2)\n",
            "Requirement already satisfied: typing_extensions>=4.9.0 in /usr/local/lib/python3.10/dist-packages (from selenium) (4.12.1)\n",
            "Requirement already satisfied: attrs>=23.2.0 in /usr/local/lib/python3.10/dist-packages (from trio~=0.17->selenium) (23.2.0)\n",
            "Requirement already satisfied: sortedcontainers in /usr/local/lib/python3.10/dist-packages (from trio~=0.17->selenium) (2.4.0)\n",
            "Requirement already satisfied: idna in /usr/local/lib/python3.10/dist-packages (from trio~=0.17->selenium) (3.7)\n",
            "Requirement already satisfied: outcome in /usr/local/lib/python3.10/dist-packages (from trio~=0.17->selenium) (1.3.0.post0)\n",
            "Requirement already satisfied: sniffio>=1.3.0 in /usr/local/lib/python3.10/dist-packages (from trio~=0.17->selenium) (1.3.1)\n",
            "Requirement already satisfied: exceptiongroup in /usr/local/lib/python3.10/dist-packages (from trio~=0.17->selenium) (1.2.1)\n",
            "Requirement already satisfied: wsproto>=0.14 in /usr/local/lib/python3.10/dist-packages (from trio-websocket~=0.9->selenium) (1.2.0)\n",
            "Requirement already satisfied: pysocks!=1.5.7,<2.0,>=1.5.6 in /usr/local/lib/python3.10/dist-packages (from urllib3[socks]<3,>=1.26->selenium) (1.7.1)\n",
            "Requirement already satisfied: h11<1,>=0.9.0 in /usr/local/lib/python3.10/dist-packages (from wsproto>=0.14->trio-websocket~=0.9->selenium) (0.14.0)\n",
            "Reading package lists... Done\n",
            "Building dependency tree... Done\n",
            "Reading state information... Done\n",
            "The following additional packages will be installed:\n",
            "  fonts-ipafont-mincho\n",
            "The following NEW packages will be installed:\n",
            "  fonts-ipafont-gothic fonts-ipafont-mincho\n",
            "0 upgraded, 2 newly installed, 0 to remove and 45 not upgraded.\n",
            "Need to get 8,237 kB of archives.\n",
            "After this operation, 28.7 MB of additional disk space will be used.\n",
            "Get:1 http://archive.ubuntu.com/ubuntu jammy/universe amd64 fonts-ipafont-gothic all 00303-21ubuntu1 [3,513 kB]\n",
            "Get:2 http://archive.ubuntu.com/ubuntu jammy/universe amd64 fonts-ipafont-mincho all 00303-21ubuntu1 [4,724 kB]\n",
            "Fetched 8,237 kB in 2s (4,321 kB/s)\n",
            "Selecting previously unselected package fonts-ipafont-gothic.\n",
            "(Reading database ... 121913 files and directories currently installed.)\n",
            "Preparing to unpack .../fonts-ipafont-gothic_00303-21ubuntu1_all.deb ...\n",
            "Unpacking fonts-ipafont-gothic (00303-21ubuntu1) ...\n",
            "Selecting previously unselected package fonts-ipafont-mincho.\n",
            "Preparing to unpack .../fonts-ipafont-mincho_00303-21ubuntu1_all.deb ...\n",
            "Unpacking fonts-ipafont-mincho (00303-21ubuntu1) ...\n",
            "Setting up fonts-ipafont-mincho (00303-21ubuntu1) ...\n",
            "update-alternatives: using /usr/share/fonts/opentype/ipafont-mincho/ipam.ttf to provide /usr/share/fonts/truetype/fonts-japanese-mincho.ttf (fonts-japanese-mincho.ttf) in auto mode\n",
            "Setting up fonts-ipafont-gothic (00303-21ubuntu1) ...\n",
            "update-alternatives: using /usr/share/fonts/opentype/ipafont-gothic/ipag.ttf to provide /usr/share/fonts/truetype/fonts-japanese-gothic.ttf (fonts-japanese-gothic.ttf) in auto mode\n",
            "Processing triggers for fontconfig (2.13.1-4.2ubuntu5) ...\n"
          ]
        }
      ],
      "source": [
        "pip install selenium; apt install fonts-ipafont-gothic\n"
      ]
    },
    {
      "cell_type": "code",
      "source": [
        "from selenium import webdriver\n",
        "from selenium.webdriver.common.by import By\n",
        "from selenium.webdriver.support.ui import WebDriverWait\n",
        "from selenium.webdriver.support import expected_conditions as EC\n",
        "from getpass import getpass\n",
        "\n",
        "chrome_options = webdriver.ChromeOptions()\n",
        "chrome_options.add_argument(\"--headless\")\n",
        "chrome_options.add_argument(\"--no-sandbox\")\n",
        "chrome_options.add_argument(\"--disable-dev-shm-usage\")\n",
        "\n",
        "chrome_driver = webdriver.Chrome(options=chrome_options)\n",
        "\n",
        "# ログインボタンをクリック\n",
        "chrome_driver.get(\"https://terakoya.sejuku.net/register\")\n",
        "\n",
        "wait = WebDriverWait(chrome_driver, 30)\n",
        "\n",
        "header_login_button = wait.until(\n",
        "    EC.visibility_of_element_located(\n",
        "        (By.CSS_SELECTOR,\n",
        "         \"#root > header > div.sc-ktaQEB.cYQmJQ\")\n",
        "    )\n",
        ")\n",
        "\n",
        "header_login_button.click()\n",
        "\n",
        "# 認証情報の入力\n",
        "email_address = getpass(\"メールアドレスを入力してください\")\n",
        "password = getpass(\"パスワードを入力してください\")\n",
        "\n",
        "parent_element = chrome_driver.find_element(By.CSS_SELECTOR, \".sc-pyfCe.cZfPwB\")\n",
        "email_input = parent_element.find_element(By.NAME, \"email\")\n",
        "password_input = parent_element.find_element(By.NAME, \"password\")\n",
        "\n",
        "email_input.send_keys(email_address)\n",
        "password_input.send_keys(password)\n",
        "\n",
        "\n",
        "# ログインする\n",
        "from_login_button = wait.until(\n",
        "    EC.visibility_of_element_located(\n",
        "        (By.CSS_SELECTOR,\n",
        "         \"#root > div.sc-pyfCe.cZfPwB > div.sc-kDvujY.eCJBhf > div.sc-eDWCr.dePrRH > button\")\n",
        "    )\n",
        ")\n",
        "\n",
        "from_login_button.click()\n",
        "\n",
        "wait.until(EC.visibility_of_element_located((By.CSS_SELECTOR, \"nav > img\")))\n",
        "\n",
        "\n",
        "# アカウントボタンをクリック\n",
        "account_button = wait.until(\n",
        "    EC.visibility_of_element_located(\n",
        "        (By.CSS_SELECTOR,\n",
        "         \"#root > div.sc-llFzvR.kgFOA-D > div > div > header > div.sc-cnMZnH.bfhwp > div.sc-cCmLNy.iIKLcI > div.sc-jeToga.lgFoIz\")\n",
        "    )\n",
        ")\n",
        "\n",
        "account_button.click()\n",
        "\n",
        "# アカウント設定ボタンをクリック\n",
        "account_set_button = wait.until(\n",
        "    EC.visibility_of_element_located(\n",
        "        (By.CSS_SELECTOR,\n",
        "         \"#root > div.sc-llFzvR.kgFOA-D > div > div > header > div.sc-fpktUn.ictklM > ul > a:nth-child(1) > li.sc-eQVdPn.dFGByf\")\n",
        "    )\n",
        ")\n",
        "\n",
        "account_set_button.click()\n",
        "\n",
        "# 編集ボタンをクリック\n",
        "account_mod_button = wait.until(\n",
        "    EC.visibility_of_element_located(\n",
        "        (By.CSS_SELECTOR,\n",
        "         \"#root > div.sc-jNVCqq.kXoFcu > div > div > main > div > div.sc-qrGtj.cEtYDd > button.sc-eDvSVe.cnuKRu.sc-fmsHFP.laUpbW\")\n",
        "    )\n",
        ")\n",
        "\n",
        "account_mod_button.click()\n",
        "\n",
        "# 自己紹介を入力\n",
        "self_message = \"プログラミング学習中です！今はスクレイピングに挑戦しています！\"\n",
        "self_element = chrome_driver.find_element(By.CSS_SELECTOR, \"#root > div.sc-jNVCqq.kXoFcu > div > div > main > div > div.sc-qrGtj.cEtYDd > div:nth-child(9) > div.sc-lbeivL.geQcsg > textarea\")\n",
        "\n",
        "self_element.clear()\n",
        "self_element.send_keys(self_message)\n",
        "\n",
        "\n",
        "# 更新するボタンをクリック\n",
        "mod_button = wait.until(\n",
        "    EC.visibility_of_element_located(\n",
        "        (By.CSS_SELECTOR,\n",
        "         \"#root > div.sc-jNVCqq.kXoFcu > div > div > main > div > div.sc-qrGtj.cEtYDd > button.sc-eDvSVe.iklejs.sc-eraWZj.KMhqk\")\n",
        "    )\n",
        ")\n",
        "\n",
        "mod_button.click()\n",
        "\n",
        "# 画面のスクリーンショットを取得\n",
        "chrome_driver.save_screenshot(\"screenshot.png\")\n",
        "\n",
        "# Chromeを閉じる\n",
        "chrome_driver.quit()\n",
        "\n",
        "\n"
      ],
      "metadata": {
        "colab": {
          "base_uri": "https://localhost:8080/"
        },
        "id": "jDvPyqGgd2pp",
        "outputId": "848e2650-6c2e-4ecc-bfbe-fa6c5e954672"
      },
      "execution_count": 34,
      "outputs": [
        {
          "name": "stdout",
          "output_type": "stream",
          "text": [
            "メールアドレスを入力してください··········\n",
            "パスワードを入力してください··········\n"
          ]
        }
      ]
    },
    {
      "cell_type": "code",
      "source": [],
      "metadata": {
        "id": "3NsStfeJeY5t"
      },
      "execution_count": null,
      "outputs": []
    }
  ]
}