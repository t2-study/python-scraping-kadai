{
  "nbformat": 4,
  "nbformat_minor": 0,
  "metadata": {
    "colab": {
      "provenance": []
    },
    "kernelspec": {
      "name": "python3",
      "display_name": "Python 3"
    },
    "language_info": {
      "name": "python"
    }
  },
  "cells": [
    {
      "cell_type": "code",
      "execution_count": 26,
      "metadata": {
        "colab": {
          "base_uri": "https://localhost:8080/"
        },
        "id": "eSsziqBQafaE",
        "outputId": "0afe007b-ae25-4c7a-cf13-25a69cab9dad"
      },
      "outputs": [
        {
          "output_type": "stream",
          "name": "stdout",
          "text": [
            "APIキーを入力してください: ··········\n",
            "検索する駅を入力してください: 秋葉原\n",
            "とんこつラーメン 博多風龍 秋葉原総本店 4 千代田区外神田３丁目１５−６\n",
            "トラットリア ラ・テスタドゥーラ 4.3 千代田区神田須田町１丁目１３−８ 加納ビル 1階\n",
            "伊吹や製麺 秋葉原UDX店 3.6 千代田区外神田４丁目１４−１ 秋葉原UDXレストラン街アキバイチ 2F\n",
            "デニーズ秋葉原中央口店 3.7 千代田区神田佐久間町１丁目８−３ ダイハツ秋葉原ビル２Ｆ\n",
            "スターバックスコーヒー アトレ秋葉原1店 3.9 千代田区外神田１丁目１７−６ アトレ秋葉原 １\n",
            "ペッパーランチ 秋葉原店 3.7 千代田区外神田１丁目１５−１ 半田ビル 1F\n",
            "てんぷら 天芳 4.1 千代田区神田練塀町３−１０\n",
            "ローストビーフ大野 秋葉原店 4.6 千代田区外神田１丁目２−３ 土屋ビル 地下1階\n",
            "そば処 新田毎 3.5 千代田区外神田１丁目１７−６ 改札内 4階 総武線下り6番ホーム中ほど 秋葉原駅\n",
            "かんだやぶそば 4 千代田区神田淡路町２丁目１０\n",
            "カールスジュニア秋葉原中央通りレストラン 4.1 千代田区外神田４丁目４−３ 秋葉原Silビル 1階\n",
            "中華料理 雁川 3.9 千代田区外神田３丁目１０−１０ 白銀会館 Ｂ１Ｆ\n",
            "春日亭 秋葉原店 4.1 千代田区外神田３丁目１−１２ 大石ビル 1F\n",
            "カラオケパセラ秋葉原電気街店 4 千代田区外神田１丁目１３−２ パセラリゾーツ秋葉原電気街店１Ｆ\n",
            "いろり庵きらく 秋葉原 3.6 千代田区神田花岡町１−９\n",
            "Blossom & Bouquet 秋葉原UDX店 3.7 千代田区外神田４丁目１４−１ 秋葉原UDXビル 5F\n",
            "カラオケパセラ秋葉原昭和通り館 3.9 千代田区神田佐久間町２丁目１０ パセラリゾーツ 秋葉原昭和通り館 １F\n",
            "ホテルマイステイズ御茶ノ水コンファレンスセンター 4.1 千代田区神田淡路町２丁目１０−６\n",
            "名代 富士そば 昭和通り店 3.4 千代田区神田和泉町１−２\n",
            "アジアンダイニングバーSAPANA秋葉原UDX店 3.8 千代田区外神田４丁目１４−１ 秋葉原UDX2F\n"
          ]
        }
      ],
      "source": [
        "import requests\n",
        "import pprint\n",
        "from getpass import getpass\n",
        "\n",
        "# APIキーの入力\n",
        "api_key = getpass(\"APIキーを入力してください: \")\n",
        "\n",
        "# 駅名の入力\n",
        "station = input(\"検索する駅を入力してください: \")\n",
        "\n",
        "# 駅の経度緯度の取得\n",
        "station_loc_url = \"https://maps.googleapis.com/maps/api/geocode/json\"\n",
        "\n",
        "station_loc = requests.get(\n",
        "    station_loc_url,\n",
        "    params = {\n",
        "        \"address\": station,\n",
        "        \"key\": api_key\n",
        "    }\n",
        ")\n",
        "\n",
        "#pprint.pprint(station_loc.json())\n",
        "\n",
        "# 駅の経度(lat)、緯度(lng)を指定する\n",
        "station_loc_json = station_loc.json()\n",
        "\n",
        "res_lat = station_loc_json[\"results\"][0][\"geometry\"][\"location\"][\"lat\"]\n",
        "res_lng = station_loc_json[\"results\"][0][\"geometry\"][\"location\"][\"lng\"]\n",
        "\n",
        "#print(res_lat, \": \", res_lng)\n",
        "\n",
        "# 駅周辺のレストラン情報を取得する\n",
        "rest_url =\"https://maps.googleapis.com/maps/api/place/nearbysearch/json\"\n",
        "\n",
        "rest_loc = requests.get(\n",
        "    rest_url,\n",
        "    params={\n",
        "        \"location\": f\"{res_lat},{res_lng}\",\n",
        "        \"language\": \"ja\",\n",
        "        \"radius\": 500,\n",
        "        \"type\": \"restaurant\",\n",
        "        \"key\": api_key\n",
        "    }\n",
        ")\n",
        "\n",
        "rest_loc_json = rest_loc.json()\n",
        "\n",
        "for item in rest_loc_json[\"results\"]:\n",
        "    rest_name = item[\"name\"]\n",
        "    rest_point = item[\"rating\"]\n",
        "    rest_address = item[\"vicinity\"]\n",
        "\n",
        "    print(f\"{rest_name} {rest_point} {rest_address}\")\n"
      ]
    },
    {
      "cell_type": "code",
      "source": [
        "}"
      ],
      "metadata": {
        "id": "0e_g-ZUjgFtJ"
      },
      "execution_count": null,
      "outputs": []
    },
    {
      "cell_type": "code",
      "source": [
        "]"
      ],
      "metadata": {
        "id": "7AvbiFLpc2OY"
      },
      "execution_count": 2,
      "outputs": []
    }
  ]
}