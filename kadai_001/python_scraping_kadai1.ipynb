{
  "nbformat": 4,
  "nbformat_minor": 0,
  "metadata": {
    "colab": {
      "provenance": []
    },
    "kernelspec": {
      "name": "python3",
      "display_name": "Python 3"
    },
    "language_info": {
      "name": "python"
    }
  },
  "cells": [
    {
      "cell_type": "code",
      "execution_count": 10,
      "metadata": {
        "colab": {
          "base_uri": "https://localhost:8080/"
        },
        "id": "fx2BkF6SApu_",
        "outputId": "0bda72e7-1299-439f-9323-bc5ca8fd228a"
      },
      "outputs": [
        {
          "output_type": "stream",
          "name": "stdout",
          "text": [
            "■課題（1）“実態に合っていない！？”国の認証制度国交省によるトヨタ本社への立ち入り検査（4日）国交省の発表によると、例えば業界最大手のトヨタでは、歩行者と車が衝突した際、歩行者の被害をどの程度軽減できるかをはかる試験で、虚偽のデータを提出するなどしていたという。\n",
            "\n",
            "しかし、国交省が「虚偽」と表現したこのデータは、トヨタが自社で行った「開発試験データ」であった。さらに、トヨタによると、この「開発試験」は、国の認証試験より厳しい条件で行われたものだったという。そのため、トヨタの豊田章男会長は、「安全性に問題はない」と説明した。\n",
            "\n",
            "ただ、試験は本来、法律で定められた条件で実施する必要がある。そのため、たとえ国の認証試験より厳しい条件で行われていたとしても、これらは「不正行為」である。豊田会長も、「不正といえば不正。認証の部分でやってはいけないことをやってしまった」と歯切れが悪かった。\n",
            "■“国の認証試験よりも厳しい試験”で“不正”の違和感国交省による有識者会議（4月）今回、不正が発覚したのは、トヨタのほかに、マツダ、ヤマハ発動機、ホンダ、スズキの合わせて5社にのぼった。不正の事例も様々だが、5社とも、国交省に対し「安全性に問題はない」と報告している。\n",
            "\n",
            "こうしたことから、ある政府関係者は、「ここまで大規模だと、不正をロクにチェックしてこなかった旧来の仕組み自体を問題視する人も出てくる」と話し、認証制度のあり方自体に疑問を投げかけた。\n",
            "\n",
            "不正が発覚した5社のメーカーのうちのある関係者も、「不正が発覚したタイミングで言う話でもないが、国交省の認証はわかりにくい」「実態に合っていないルールだ」などと、認証制度そのものに疑問を呈した。\n",
            "\n",
            "その一方で国交省は、現在の認証制度は国連などの基準に適合していることなどから、制度に問題があるとの声について、「我々としては疑問に感じる」と述べている。\n",
            "\n",
            "しかし、「今の実態を踏まえ、何をすべきか議論を進める」とも説明し、国交省の有識者会議で、今後も不正を未然に防止する対策などについて検討していく考えだ。\n"
          ]
        }
      ],
      "source": [
        "import requests\n",
        "from bs4 import BeautifulSoup\n",
        "\n",
        "# URLの設定\n",
        "url = \"https://news.yahoo.co.jp/articles/2be699694f28a4e15bfe79c2dffa928165dbb216\"\n",
        "\n",
        "# URLをGET\n",
        "response = requests.get(url)\n",
        "\n",
        "# レスポンスのテキストをsoupに代入\n",
        "soup = BeautifulSoup(response.text, \"html.parser\")\n",
        "\n",
        "# 本文の抽出\n",
        "content1 = soup.select_one(\"#uamods > div.article_body.highLightSearchTarget > div:nth-child(2)\")\n",
        "content2 = soup.select_one(\"#uamods > div.article_body.highLightSearchTarget > div:nth-child(3)\")\n",
        "\n",
        "# 本文のテキストを代入\n",
        "title_text = content1.text + \"\\n\" + content2.text\n",
        "\n",
        "# 本文のテキストを出力\n",
        "print(title_text)"
      ]
    },
    {
      "cell_type": "code",
      "source": [],
      "metadata": {
        "id": "TRzfWqREBSIx"
      },
      "execution_count": null,
      "outputs": []
    }
  ]
}